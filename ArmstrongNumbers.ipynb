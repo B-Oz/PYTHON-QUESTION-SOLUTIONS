{
 "cells": [
  {
   "cell_type": "markdown",
   "metadata": {},
   "source": [
    "#Armstrong Numbers\n",
    "An n-digit number that is the sum of the nth powers of its digits is called an n-Armstrong number. Examples :\n",
    "371 = 3**3 + 7**3 + 1**3;\n",
    "9474 = 9**4 + 4**4 + 7**4 + 4**4;\n",
    "93084 = 9**5 + 3**5 + 0**5 + 8**5 + 4**5.\n",
    "\n",
    "Write a Python program that;\n",
    "takes a positive integer number from the user,\n",
    "checks the entered number if it is Armstrong,\n",
    "consider the negative, float and any entries other than numeric values then display a warning message to the user."
   ]
  },
  {
   "cell_type": "code",
   "execution_count": 1,
   "metadata": {},
   "outputs": [
    {
     "name": "stdout",
     "output_type": "stream",
     "text": [
      "78524 is not an Armstrong number\n"
     ]
    }
   ],
   "source": [
    "#değeri while döngüsü içerisinde alıyoruz ki doğru girene kadar kullanıcıdan değer girmesini istesin.input komutunu sürekli tekrarlasın\n",
    "\n",
    "while True:\n",
    "\n",
    "    number = input(\"Enter a positive integer number\")\n",
    "    digits = len(number)\n",
    "    summ = 0#başlangıç değeri sıfır her iterasyonda değeri birbirinin üstüne toplayacak\n",
    "\n",
    "    if not number.isdigit():#yanlış bir değer girerse if bloku çalışır. Eğer if number.isdigit() olsaydı bu girilen değerin positive ve sayısal bir değer olduğunu gösterirdi\n",
    "        print(\"It is an invalid entry. Don't use non-numeric, float, or negative values!\")\n",
    "    elif int(number) >= 0 :#doğru girilmiş değerler üzerinde for kullanmalıyız\n",
    "        for i in range(digits):\n",
    "            summ += int(number[i]) ** digits#her seferinde toplama yapacağımı için bir toplam değişkeni tanımlamamaız lazım.Çıkam toplam değeri number ile kıyaslayacak ve eğer toplam ile number eşit ise armstrong number değilse armstrong number değil.\n",
    "        if summ == int(number):\n",
    "            print(f\"{number} is an Armstrong number\")\n",
    "            break# armstrong number girerse yazdırıp döngüden çıksın\n",
    "        else:\n",
    "            print(f\"{number} is not an Armstrong number\")\n",
    "            break# armstrong number girmezse yazdırıp döngüden çıksın"
   ]
  }
 ],
 "metadata": {
  "kernelspec": {
   "display_name": "Python 3.10.2 64-bit",
   "language": "python",
   "name": "python3"
  },
  "language_info": {
   "codemirror_mode": {
    "name": "ipython",
    "version": 3
   },
   "file_extension": ".py",
   "mimetype": "text/x-python",
   "name": "python",
   "nbconvert_exporter": "python",
   "pygments_lexer": "ipython3",
   "version": "3.10.2"
  },
  "orig_nbformat": 4,
  "vscode": {
   "interpreter": {
    "hash": "2378da2036647dfa5e0985ab4ef2afc07b7139f1c9eeaa7cf8ed2f8e26300df9"
   }
  }
 },
 "nbformat": 4,
 "nbformat_minor": 2
}
