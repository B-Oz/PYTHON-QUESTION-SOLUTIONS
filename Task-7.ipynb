{
 "cells": [
  {
   "cell_type": "markdown",
   "metadata": {},
   "source": [
    "#TASK# Let’s write a program that asks you to enter your exam\n",
    "score and calculates the range in which your degree is\n",
    "based on your exam score. The output would be: e.g, “Your\n",
    "degree is B+”\n",
    "▹ 95 and above ▶▶ “A+”\n",
    "▹ 90-94 ▶▶ “A”\n",
    "▹ 85-89 ▶▶ “B+”\n",
    "▹ 80-84 ▶▶ “B”\n",
    "▹ 79 and below ▶▶ “below B” or “B-” \n",
    "#use nested if elif"
   ]
  },
  {
   "cell_type": "code",
   "execution_count": null,
   "metadata": {},
   "outputs": [],
   "source": [
    "score = int (input(\"Enter your score :\"))\n",
    "\n",
    "if score >= 90:\n",
    "    if score >= 95:#Not 95 ten büyük ise if te, 95 ten küçük ise else te toplanıyor \n",
    "        Score_letter=\"A+\"\n",
    "    else:\n",
    "        Score_letter=\"A\"\n",
    "elif score >= 80:\n",
    "    if score >= 85:\n",
    "        Score_letter=\"B+\"\n",
    "    else:\n",
    "        Score_letter=\"B\"\n",
    "else:\n",
    "    Score_letter=\"below B\"\n",
    "\n",
    "print (\"Your degree: %s\" % Score_letter)#print (\"Your degree: \", Score_letter) de olur"
   ]
  }
 ],
 "metadata": {
  "language_info": {
   "name": "python"
  },
  "orig_nbformat": 4
 },
 "nbformat": 4,
 "nbformat_minor": 2
}
