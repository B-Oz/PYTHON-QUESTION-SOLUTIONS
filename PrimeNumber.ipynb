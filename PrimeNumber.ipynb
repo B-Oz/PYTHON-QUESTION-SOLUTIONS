{
 "cells": [
  {
   "cell_type": "markdown",
   "metadata": {},
   "source": [
    "#task prime number\n",
    "Write a program that takes a number from the user and prints the result to check if it is a prime number.\n"
   ]
  },
  {
   "cell_type": "code",
   "execution_count": null,
   "metadata": {},
   "outputs": [],
   "source": [
    "n = int(input(\"Enter a positive number :\"))\n",
    "\n",
    "counter = 0\n",
    "for i in range(2, n+1): #i range içerisndeki değerlerin herbiridir\n",
    "    if n % i == 0:# girilen değeri değerden küçük sayılara kalansız bölenleri bulmaya çalışıyoruz\n",
    "        counter += 1#kalansız bölen lerin sayısı 2 den(sayının kendisi ve 1) fazla ise sayı prime numberdır.değilse değildir.Tam bölenleri saymak için bir counter tanımlamak lazım \n",
    "if (n == 0) or (n ==1) or (counter >= 3):\n",
    "        \n",
    "    print(f\"{n} is not a prime number\")\n",
    "        \n",
    "else:\n",
    "    print(f\"{n} is a prime number \")"
   ]
  }
 ],
 "metadata": {
  "language_info": {
   "name": "python"
  },
  "orig_nbformat": 4
 },
 "nbformat": 4,
 "nbformat_minor": 2
}
