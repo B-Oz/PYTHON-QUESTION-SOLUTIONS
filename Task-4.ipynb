{
 "cells": [
  {
   "cell_type": "markdown",
   "metadata": {},
   "source": [
    "## Question  --> Print the matching parts of the words in the list.\n",
    "## strs = [\"flower\",\"flow\",\"flowigh\",\"elbow\",\"remower\"]"
   ]
  },
  {
   "cell_type": "code",
   "execution_count": null,
   "metadata": {},
   "outputs": [],
   "source": [
    "liste = [\"ketmet\",\"mehmetket\",\"sametket\",\"asd\"]\n",
    "liste = [\"flower\",\"flow\",\"flowigh\",\"elbow\",\"remower\"]\n",
    "prelist = []\n",
    "mini = min(liste, key=len)\n",
    "a = len(mini)\n",
    "\n",
    "for i in range(a) :\n",
    "  for j in range(a+1) :\n",
    "    counts = 0 \n",
    "    for x in liste :\n",
    "      if mini[i:j] in x :\n",
    "        counts += 1\n",
    "    if counts == len(liste) :\n",
    "      prelist.append(mini[i:j])\n",
    "\n",
    "result = max(prelist, key=len)\n",
    "\n",
    "if len(result) > 0 :\n",
    "  print(f\"Longest common part is {result}.\")\n",
    "else :\n",
    "  print(\"There is no common part\")"
   ]
  }
 ],
 "metadata": {
  "language_info": {
   "name": "python"
  },
  "orig_nbformat": 4
 },
 "nbformat": 4,
 "nbformat_minor": 2
}
