{
 "cells": [
  {
   "cell_type": "markdown",
   "metadata": {},
   "source": [
    "DESCRIPTION:\n",
    "Write a function partlist that gives all the ways to divide a list (an array) of at least two elements into two non-empty parts.\n",
    "\n",
    "Each two non empty parts will be in a pair (or an array for languages without tuples or a structin C - C: see Examples test Cases - )\n",
    "Each part will be in a string\n",
    "Elements of a pair must be in the same order as in the original array.\n",
    "Examples of returns in different languages:\n",
    "a = [\"az\", \"toto\", \"picaro\", \"zone\", \"kiwi\"] -->\n",
    "[[\"az\", \"toto picaro zone kiwi\"], [\"az toto\", \"picaro zone kiwi\"], [\"az toto picaro\", \"zone kiwi\"], [\"az toto picaro zone\", \"kiwi\"]] \n",
    "or\n",
    " a = {\"az\", \"toto\", \"picaro\", \"zone\", \"kiwi\"} -->\n",
    "{{\"az\", \"toto picaro zone kiwi\"}, {\"az toto\", \"picaro zone kiwi\"}, {\"az toto picaro\", \"zone kiwi\"}, {\"az toto picaro zone\", \"kiwi\"}}\n",
    "or\n",
    "a = [\"az\", \"toto\", \"picaro\", \"zone\", \"kiwi\"] -->\n",
    "[(\"az\", \"toto picaro zone kiwi\"), (\"az toto\", \"picaro zone kiwi\"), (\"az toto picaro\", \"zone kiwi\"), (\"az toto picaro zone\", \"kiwi\")]\n",
    "or \n",
    "a = [|\"az\", \"toto\", \"picaro\", \"zone\", \"kiwi\"|] -->\n",
    "[(\"az\", \"toto picaro zone kiwi\"), (\"az toto\", \"picaro zone kiwi\"), (\"az toto picaro\", \"zone kiwi\"), (\"az toto picaro zone\", \"kiwi\")]\n",
    "or\n",
    "a = [\"az\", \"toto\", \"picaro\", \"zone\", \"kiwi\"] -->\n",
    "\"(az, toto picaro zone kiwi)(az toto, picaro zone kiwi)(az toto picaro, zone kiwi)(az toto picaro zone, kiwi)\""
   ]
  },
  {
   "cell_type": "code",
   "execution_count": null,
   "metadata": {},
   "outputs": [],
   "source": [
    "def partlist(arr):\n",
    "    tuples = []\n",
    "    for i in range(len(arr)):\n",
    "        a = ' '.join(arr[:i])\n",
    "        b = ' '.join(arr[i:])\n",
    "        tuples.append((a,b)) \n",
    "        \n",
    "    return tuples[1:]"
   ]
  }
 ],
 "metadata": {
  "language_info": {
   "name": "python"
  },
  "orig_nbformat": 4
 },
 "nbformat": 4,
 "nbformat_minor": 2
}
