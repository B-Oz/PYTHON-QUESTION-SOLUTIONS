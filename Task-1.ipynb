{
 "cells": [
  {
   "cell_type": "markdown",
   "metadata": {},
   "source": [
    "#TASK\n",
    "write a code that asks the user a number between 1 and 10 then puts that number into the multiplication table:"
   ]
  },
  {
   "cell_type": "code",
   "execution_count": 1,
   "metadata": {},
   "outputs": [
    {
     "name": "stdout",
     "output_type": "stream",
     "text": [
      "10 x 0 =  0\n",
      "10 x 1 =  10\n",
      "10 x 2 =  20\n",
      "10 x 3 =  30\n",
      "10 x 4 =  40\n",
      "10 x 5 =  50\n",
      "10 x 6 =  60\n",
      "10 x 7 =  70\n",
      "10 x 8 =  80\n",
      "10 x 9 =  90\n",
      "10 x 10 =  100\n"
     ]
    }
   ],
   "source": [
    "n = int(input(\"Enter a number:\"))#sayı dizisi üreten range(  ) fonksiyonu kullandık.\n",
    "numbers = range(11)\n",
    "i = 0\n",
    "for i in numbers:#numbers diye değişken atamadan doğrudan for i in range(11) yazabiliriz.\n",
    "    result = n * i\n",
    "    print(f\"{n} x {i} = \", result)"
   ]
  }
 ],
 "metadata": {
  "kernelspec": {
   "display_name": "Python 3.10.2 64-bit",
   "language": "python",
   "name": "python3"
  },
  "language_info": {
   "codemirror_mode": {
    "name": "ipython",
    "version": 3
   },
   "file_extension": ".py",
   "mimetype": "text/x-python",
   "name": "python",
   "nbconvert_exporter": "python",
   "pygments_lexer": "ipython3",
   "version": "3.10.2"
  },
  "orig_nbformat": 4,
  "vscode": {
   "interpreter": {
    "hash": "2378da2036647dfa5e0985ab4ef2afc07b7139f1c9eeaa7cf8ed2f8e26300df9"
   }
  }
 },
 "nbformat": 4,
 "nbformat_minor": 2
}
