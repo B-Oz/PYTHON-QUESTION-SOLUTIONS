{
 "cells": [
  {
   "cell_type": "markdown",
   "metadata": {},
   "source": [
    " Question 1 --> Write Amicable numbers from 1 to 10000 thousand.\n",
    " Amicable numbers --> exact divisors of a = b , exact divisors of b = a"
   ]
  },
  {
   "cell_type": "code",
   "execution_count": null,
   "metadata": {},
   "outputs": [],
   "source": [
    "#Solution-1\n",
    "micable = []\n",
    "\n",
    "for i in range(10000,0,-1) :\n",
    "  top = 0\n",
    "  for j in range(1,10001) :\n",
    "    if i % j == 0 :\n",
    "      top += j\n",
    "  top -= i\n",
    "  top2 = 0\n",
    "  for y in range(1, top+1) :\n",
    "    if top % y == 0 :\n",
    "      top2 += y\n",
    "  top2 -= y\n",
    "  if top2 == i and top == y and i != y and [i,y] not in amicable :\n",
    "    amicable.append(sorted([i,y]))\n",
    "\n",
    "print(amicable)"
   ]
  },
  {
   "cell_type": "code",
   "execution_count": null,
   "metadata": {},
   "outputs": [],
   "source": [
    "#Solution-2\n",
    "def division(a) :\n",
    "  b = 0\n",
    "  for i in range(1,a) :\n",
    "    if a % i == 0 :\n",
    "      b += i\n",
    "  return b\n",
    "liste = []\n",
    "division(20)  \n",
    "x = 0\n",
    "while x < 10000 :\n",
    "  if division(division(x)) == x and division(x) != x :\n",
    "    liste.append(x)\n",
    "  x += 1\n",
    "\n",
    "print(liste)"
   ]
  }
 ],
 "metadata": {
  "language_info": {
   "name": "python"
  },
  "orig_nbformat": 4
 },
 "nbformat": 4,
 "nbformat_minor": 2
}
