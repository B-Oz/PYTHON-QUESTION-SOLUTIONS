{
 "cells": [
  {
   "cell_type": "markdown",
   "metadata": {},
   "source": [
    "#TASK Find and print the length of the logest word.\n",
    "Write a program that;\n",
    "Takes a string sentence cosnsisting of a couple of words from the user,\n",
    "Compares and find out the longest word and prints the longest word and prints the whole sentence and the length of the longest word as int type.\n",
    "Use WHILE LOOP"
   ]
  },
  {
   "cell_type": "code",
   "execution_count": null,
   "metadata": {},
   "outputs": [],
   "source": [
    "sentence = input(\"Enter a sentence :\")\n",
    "word_list = sentence.split()\n",
    "longest = 0# longest ve i değişkenine 0 değerini while döngüsü dışında atadık\n",
    "i = 0\n",
    "while i < len(word_list):# i değeri en fazla cümlenin kelimesi sayısı kadar olabileceği için bu şartı buraya yazdık \n",
    "    if len(word_list[i]) > longest:\n",
    "        longest = len(word_list[i])#Eğer word_list in 1. ndexi 0. index ten büyük ise yeni longest 1. index in uzunluğu kadar olacak.\n",
    "    i += 1  #  \n",
    "print(sentence,\"The length of longest word is:\" ,longest)"
   ]
  }
 ],
 "metadata": {
  "kernelspec": {
   "display_name": "Python 3.9.13 64-bit (windows store)",
   "language": "python",
   "name": "python3"
  },
  "language_info": {
   "name": "python",
   "version": "3.9.13"
  },
  "orig_nbformat": 4,
  "vscode": {
   "interpreter": {
    "hash": "914a10f12bd6c3d7278a942798b29405aabec0fd5863bc92555d7f7ede974a4c"
   }
  }
 },
 "nbformat": 4,
 "nbformat_minor": 2
}
