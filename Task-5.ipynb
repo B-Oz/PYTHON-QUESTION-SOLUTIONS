{
 "cells": [
  {
   "cell_type": "markdown",
   "metadata": {},
   "source": [
    "## Question 4 --> Print the longest part of the given word that does not repeat letters.\n",
    "Word = helloouufriend"
   ]
  },
  {
   "cell_type": "code",
   "execution_count": 1,
   "metadata": {},
   "outputs": [
    {
     "name": "stdout",
     "output_type": "stream",
     "text": [
      "the longest word is : ufrien.\n"
     ]
    }
   ],
   "source": [
    "new = []\n",
    "word = \"helloouufriend\"  # Kelime üzerinde değişiklik yapmanız kodu çözmenize daha çok yardımcı olur\n",
    "for i in range(len(word)) :\n",
    "  for j in range(len(word)) :\n",
    "    if len(set(word[i:j])) == (j-i) :\n",
    "      new.append(word[i:j])\n",
    "\n",
    "result = max(new, key=len)\n",
    "print(f\"the longest word is : {result}.\")"
   ]
  }
 ],
 "metadata": {
  "kernelspec": {
   "display_name": "Python 3.9.13 64-bit (windows store)",
   "language": "python",
   "name": "python3"
  },
  "language_info": {
   "codemirror_mode": {
    "name": "ipython",
    "version": 3
   },
   "file_extension": ".py",
   "mimetype": "text/x-python",
   "name": "python",
   "nbconvert_exporter": "python",
   "pygments_lexer": "ipython3",
   "version": "3.9.13"
  },
  "orig_nbformat": 4,
  "vscode": {
   "interpreter": {
    "hash": "914a10f12bd6c3d7278a942798b29405aabec0fd5863bc92555d7f7ede974a4c"
   }
  }
 },
 "nbformat": 4,
 "nbformat_minor": 2
}
