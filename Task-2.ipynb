{
 "cells": [
  {
   "cell_type": "markdown",
   "metadata": {},
   "source": [
    "#Task\n",
    "write a program to choose and collect the even and od numbers(1 to 10) in different list.print the result such as:\n",
    "evens : [0,2,4,6,8]\n",
    "odds : [1,3,5,7,9]\n"
   ]
  },
  {
   "cell_type": "code",
   "execution_count": 1,
   "metadata": {},
   "outputs": [
    {
     "name": "stdout",
     "output_type": "stream",
     "text": [
      "[0, 2, 4, 6, 8]\n",
      "[1, 3, 5, 7, 9]\n"
     ]
    }
   ],
   "source": [
    "#Solution-1\n",
    "evens = list(range(0,10,2)) \n",
    "odds = list(range(1,10,2))\n",
    "print(evens, odds, sep=\"\\n\")"
   ]
  },
  {
   "cell_type": "code",
   "execution_count": 2,
   "metadata": {},
   "outputs": [
    {
     "name": "stdout",
     "output_type": "stream",
     "text": [
      "[1, 3, 5, 7, 9]\n",
      "[0, 2, 4, 6, 8]\n"
     ]
    }
   ],
   "source": [
    "#Solution-2\n",
    "evens = []\n",
    "odds = []\n",
    "\n",
    "for n in range(0,10,2):\n",
    "    evens.append(n)\n",
    "for y in range(1,10,2):\n",
    "    odds.append(y)\n",
    "print(odds, evens, sep= \"\\n\")"
   ]
  },
  {
   "cell_type": "code",
   "execution_count": null,
   "metadata": {},
   "outputs": [],
   "source": [
    "#Solution-3\n",
    "evens = []\n",
    "odds = []\n",
    "for n in range(10):\n",
    "    if n % 2 == 0:\n",
    "        evens.append(n)\n",
    "    else:\n",
    "        odds.append(n)\n",
    "print(\"odds =\", odds)\n",
    "print(\"evens = \", evens)"
   ]
  }
 ],
 "metadata": {
  "kernelspec": {
   "display_name": "Python 3.10.2 64-bit",
   "language": "python",
   "name": "python3"
  },
  "language_info": {
   "codemirror_mode": {
    "name": "ipython",
    "version": 3
   },
   "file_extension": ".py",
   "mimetype": "text/x-python",
   "name": "python",
   "nbconvert_exporter": "python",
   "pygments_lexer": "ipython3",
   "version": "3.10.2"
  },
  "orig_nbformat": 4,
  "vscode": {
   "interpreter": {
    "hash": "2378da2036647dfa5e0985ab4ef2afc07b7139f1c9eeaa7cf8ed2f8e26300df9"
   }
  }
 },
 "nbformat": 4,
 "nbformat_minor": 2
}
