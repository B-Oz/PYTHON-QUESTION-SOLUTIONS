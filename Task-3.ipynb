{
 "cells": [
  {
   "cell_type": "markdown",
   "metadata": {},
   "source": [
    "#TASK\n",
    "Write a code that counts the odd and even numbers in agiven list or tuple.\n",
    "print the result such as:\n",
    "\n",
    "example_list = [11, 2, 24, 61, 48, 33, 3]\n",
    "The number of even numbers: 3\n",
    "The number of odd numbers 4"
   ]
  },
  {
   "cell_type": "code",
   "execution_count": 1,
   "metadata": {},
   "outputs": [
    {
     "name": "stdout",
     "output_type": "stream",
     "text": [
      "The number of even numbers : 3\n",
      "The number of odd numbers : 4\n"
     ]
    }
   ],
   "source": [
    "#Solution-1\n",
    "my_list = [11, 2, 24, 61, 48, 33, 3]\n",
    "my_list2 = []\n",
    "my_list3 = []\n",
    "for i in my_list:\n",
    "    if i % 2 == 0:\n",
    "        my_list2.append(i)\n",
    "    else:\n",
    "        my_list3.append(i)\n",
    "print(\"The number of even numbers :\",len(my_list2))\n",
    "print(\"The number of odd numbers :\", len(my_list3))  "
   ]
  },
  {
   "cell_type": "code",
   "execution_count": null,
   "metadata": {},
   "outputs": [],
   "source": [
    "#Solution-2\n",
    "#yukarıdaki gibi liste oluşturup soru çözülebilir.Ancak liste memory de daha fazla yer kapladığı için counter kullanarak da yapabiliriz.\n",
    "my_list = [11, 2, 24, 61, 48, 33, 3]\n",
    "evens = 0\n",
    "odds = 0\n",
    "for i in my_list:\n",
    "    if i % 2 == 0:\n",
    "        evens += 1\n",
    "    else:\n",
    "        odds += 1\n",
    "print(\"The number of even numbers :\",evens)\n",
    "print(\"The number of odd numbers :\",odds)"
   ]
  }
 ],
 "metadata": {
  "kernelspec": {
   "display_name": "Python 3.10.2 64-bit",
   "language": "python",
   "name": "python3"
  },
  "language_info": {
   "codemirror_mode": {
    "name": "ipython",
    "version": 3
   },
   "file_extension": ".py",
   "mimetype": "text/x-python",
   "name": "python",
   "nbconvert_exporter": "python",
   "pygments_lexer": "ipython3",
   "version": "3.10.2"
  },
  "orig_nbformat": 4,
  "vscode": {
   "interpreter": {
    "hash": "2378da2036647dfa5e0985ab4ef2afc07b7139f1c9eeaa7cf8ed2f8e26300df9"
   }
  }
 },
 "nbformat": 4,
 "nbformat_minor": 2
}
