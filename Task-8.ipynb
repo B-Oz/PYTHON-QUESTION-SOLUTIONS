{
 "cells": [
  {
   "cell_type": "markdown",
   "metadata": {},
   "source": [
    "#TASK Find and print the length of the logest word.\n",
    "Write a program that;\n",
    "Takes a string sentence cosnsisting of a couple of words from the user,\n",
    "Compares and find out the longest word and prints the longest word and prints the whole sentence and the length of the longest word as int type.\n",
    "Use WHILE LOOP"
   ]
  },
  {
   "cell_type": "code",
   "execution_count": null,
   "metadata": {},
   "outputs": [],
   "source": [
    "sentence = input(\"Enter a sentence :\")\n",
    "word_list = sentence.split()\n",
    "longest = 0# longest ve i değişkenine 0 değerini while döngüsü dışında atadık\n",
    "i = 0\n",
    "while i < len(word_list):# i değeri en fazla cümlenin kelimesi sayısı kadar olabileceği için bu şartı buraya yazdık \n",
    "    if len(word_list[i]) > longest:\n",
    "        longest = len(word_list[i])#Eğer word_list in 1. ndexi 0. index ten büyük ise yeni longest 1. index in uzunluğu kadar olacak.\n",
    "    i += 1  #  \n",
    "print(sentence,\"The length of longest word is:\" ,longest)"
   ]
  }
 ],
 "metadata": {
  "language_info": {
   "name": "python"
  },
  "orig_nbformat": 4
 },
 "nbformat": 4,
 "nbformat_minor": 2
}
